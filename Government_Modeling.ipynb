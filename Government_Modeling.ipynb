{
 "cells": [
  {
   "cell_type": "markdown",
   "metadata": {},
   "source": [
    "# Modeling government voting systems\n",
    "\n",
    "The code below is used to model first-past-the-post (= plurality) voting systems (for now; I may add other systems later). I was interested how many votes are typically 'dropped' in such a voting system.\n",
    "\n",
    "The code can then be used to run a number of elections (e.g. 100,000) and see the average number of votes dropped overall.\n",
    "\n",
    "Assumptions:\n",
    "\n",
    "- the votes per party are drawn at random from a gaussian distribution of 1,000 numbers (rounded to nearest 4 decimals). Gaussianity is a reasonable assumption (see e.g. https://www.ncbi.nlm.nih.gov/pmc/articles/PMC3478593/)\n",
    "\n",
    "- alternatively (if there's no mean and standard deviation) votes per party are drawn simply by random choice of integers from 0-100. This assumption is extremely naive and not recommended\n",
    "\n",
    "\n",
    "Inputs:\n",
    "\n",
    "- a list of the number of constituents per MP (can be generic, e.g. 10,000 constituents per MP, or even more specific if data on constituents per MP are available)\n",
    "\n",
    "- number of parties: int\n",
    "\n",
    "- number of elections: int\n",
    "\n",
    "- mean: float (mean of percentage of votes cast for all parties), default=None\n",
    "\n",
    "- stdev: float (standard deviation of votes cast for all parties), default=None\n",
    "\n",
    "- party parameters: list of tuples where each tuple's first element is the mean votes of the respective party (float) and the second element is that same party's standard deviation (float), default=None\n",
    "\n",
    "- verbose: Boolean\n",
    "\n",
    "Outputs:\n",
    "\n",
    "- percentage of votes dropped\n",
    "\n",
    "- number of votes dropped\n",
    "\n",
    "- if verbose==True, further outputs are: an np.array with percentages of votes, dictionary of constituents per party"
   ]
  },
  {
   "cell_type": "code",
   "execution_count": 119,
   "metadata": {},
   "outputs": [],
   "source": [
    "import numpy as np\n",
    "from collections import Counter\n",
    "import random"
   ]
  },
  {
   "cell_type": "code",
   "execution_count": 372,
   "metadata": {},
   "outputs": [],
   "source": [
    "def simple_constituency_election(n_parties, n_constituents, verbose=False):\n",
    "    n = n_parties\n",
    "    percents = np.arange(1,101)\n",
    "    i = 0\n",
    "    percent_lst = []\n",
    "    \n",
    "    while n-i > 1:\n",
    "        try:\n",
    "            percent_votes = np.random.choice(percents)\n",
    "            percents = np.flip(np.delete(np.flip(percents), np.arange(percent_votes)))\n",
    "            percent_lst.append(percent_votes)\n",
    "            i += 1\n",
    "        except:\n",
    "            i += 1\n",
    "    \n",
    "    # appending the last party's percentage to the list and finding the max (i.e. which party had the highest % of votes)\n",
    "    # the exception is necessary here, if array empty the .max() will return an error\n",
    "    try:\n",
    "        percent_lst.append(percents.max())\n",
    "    except:\n",
    "        percent_lst.append(0)\n",
    "    \n",
    "    if len(percent_lst) <= n:\n",
    "        diff = n - len(percent_lst)\n",
    "        percent_lst += [0] * diff\n",
    "    \n",
    "    percent_dropped = 100 - max(percent_lst)\n",
    "    percent_arr = np.array(percent_lst)\n",
    "    \n",
    "    if verbose:\n",
    "        vote_distribution = {}\n",
    "        for ix,ele in enumerate(percent_lst):\n",
    "            vote_distribution['party_' + str(ix+1)] = n_constituents * ele/100\n",
    "\n",
    "        return percent_dropped, percent_arr, vote_distribution\n",
    "    \n",
    "    return percent_dropped"
   ]
  },
  {
   "cell_type": "code",
   "execution_count": 373,
   "metadata": {},
   "outputs": [
    {
     "data": {
      "text/plain": [
       "(19, array([81, 19,  0]), {'party_1': 81.0, 'party_2': 19.0, 'party_3': 0.0})"
      ]
     },
     "execution_count": 373,
     "metadata": {},
     "output_type": "execute_result"
    }
   ],
   "source": [
    "# unit test\n",
    "simple_constituency_election(3, 100, verbose=True)"
   ]
  },
  {
   "cell_type": "code",
   "execution_count": 316,
   "metadata": {},
   "outputs": [],
   "source": [
    "def constituency_election_gaussian(n_parties, n_constituents, mean, stdev, verbose=False):\n",
    "    n = n_parties\n",
    "    percents = np.arange(0,100, 0.0001) # these are the percentage points possible\n",
    "    i = 0\n",
    "    percent_lst = []\n",
    "    vote = -1 # a negative number that is not going to be in the percents variable (any neg. number or any extremely large number will do)\n",
    "    \n",
    "    while n-i > 1:\n",
    "\n",
    "        while vote not in percents:\n",
    "            normal = np.random.normal(mean, stdev, 1000)\n",
    "            normal[normal<0] = 0\n",
    "            vote = np.round(np.random.choice(normal), 4)\n",
    "#             vote = np.round(np.random.choice(np.abs(np.random.normal(mean, stdev, 1000))), 4)\n",
    "\n",
    "        percents = np.flip(np.delete(np.flip(percents), np.arange(len(np.arange(0,vote, 0.0001))))) # np.arange(len(np.arange(0,vote, 0.0001))): the first arange is to get the length of the array (in 0.0001 increments) until the vote. the second arange then is to generate a number of integers, which will be the indices to drop by np.delete\n",
    "        percent_lst.append(vote)\n",
    "        i += 1\n",
    "        vote = -1\n",
    "    \n",
    "    # appending the last party's percentage to the list and finding the max (i.e. which party had the highest % of votes)\n",
    "    # the exception is necessary here, if array empty the .max() will return an error\n",
    "    try:\n",
    "        percent_lst.append(np.round(percents.max(), 4))\n",
    "    except:\n",
    "        percent_lst.append(0)\n",
    "        \n",
    "    percent_dropped = 100 - max(percent_lst)\n",
    "    percent_arr = np.array(percent_lst)\n",
    "    \n",
    "    if verbose:\n",
    "        vote_distribution = {}\n",
    "        for ix,ele in enumerate(percent_lst):\n",
    "            vote_distribution['party_' + str(ix+1)] = n_constituents * ele/100\n",
    "\n",
    "        return percent_dropped, percent_arr, vote_distribution\n",
    "    \n",
    "    return percent_dropped"
   ]
  },
  {
   "cell_type": "code",
   "execution_count": 317,
   "metadata": {},
   "outputs": [],
   "source": [
    "# unit test and sanity check\n",
    "d = np.array([15.98, 6.55, 1.62, 33.12, 34.34, 7.63]) # election outcome of last canadian election\n",
    "d_mu = d.mean()\n",
    "d_s = d.std()\n",
    "i, arr, dct = constituency_election_gaussian(n_parties=5, n_constituents=1500, mean=d_mu, stdev=d_s, verbose=True)"
   ]
  },
  {
   "cell_type": "code",
   "execution_count": 318,
   "metadata": {},
   "outputs": [
    {
     "data": {
      "text/plain": [
       "1499.9985"
      ]
     },
     "execution_count": 318,
     "metadata": {},
     "output_type": "execute_result"
    }
   ],
   "source": [
    "sum(v for v in dct.values())"
   ]
  },
  {
   "cell_type": "code",
   "execution_count": 319,
   "metadata": {},
   "outputs": [
    {
     "data": {
      "text/plain": [
       "99.9999"
      ]
     },
     "execution_count": 319,
     "metadata": {},
     "output_type": "execute_result"
    }
   ],
   "source": [
    "arr.sum()"
   ]
  },
  {
   "cell_type": "code",
   "execution_count": 332,
   "metadata": {},
   "outputs": [],
   "source": [
    "def party_specific_gaussian_election(n_parties, n_constituents, party_parameters, verbose=False):\n",
    "    n = n_parties\n",
    "    assert(len(party_parameters) == n)\n",
    "\n",
    "    \n",
    "    def one_run(shuffled, percents, percent_dct, party_parameters, switch=False):\n",
    "        vote = -1 # a negative number that is not going to be in the percents variable (any neg. number or any extremely large number will do)\n",
    "        for i in shuffled:\n",
    "            party_mean = party_parameters[i][0]\n",
    "            party_stdev = party_parameters[i][1]\n",
    "            \n",
    "            if switch == False:\n",
    "                count = 0\n",
    "                while vote not in percents:\n",
    "                    count += 1\n",
    "                    \n",
    "                    if count >= 20: # this is to stop the code from running forever\n",
    "                        scaled_mean = np.round(percents.max()/100 * party_mean, 4)\n",
    "                        scaled_stdev = np.round(percents.max()/100 * party_stdev, 4)\n",
    "                        normal = np.random.normal(scaled_mean, scaled_stdev, 1000)\n",
    "                        normal[normal<0] = 0\n",
    "                        vote = np.round(np.random.choice(normal),4)\n",
    "#                         vote = np.round(np.random.choice(np.abs(np.random.normal(scaled_mean, scaled_stdev, 1000))), 4) # the problem with this is that it takes the absolute value of the gaussian and if the mean is close to 0 (= small party) then that particular party will do better than the mean that was input for it as a parameter\n",
    "\n",
    "                    elif count >= 50:\n",
    "                        scaled_mean = np.round(percents.max()/100 * party_mean, 4)\n",
    "                        scaled_stdev = np.round(percents.max()/100 * party_stdev, 4)\n",
    "                        normal = np.random.normal(scaled_mean/count, scaled_stdev/count, 1000)\n",
    "                        normal[normal<0] = 0\n",
    "                        vote = np.round(np.random.choice(normal),4)\n",
    "#                         vote = np.round(np.random.choice(np.abs(np.random.normal(scaled_mean/count, scaled_stdev/count, 1000))), 4)\n",
    "\n",
    "                    else:\n",
    "                        normal = np.random.normal(party_mean, party_stdev, 1000)\n",
    "                        normal[normal<0] = 0\n",
    "                        vote = np.round(np.random.choice(normal),4)\n",
    "#                         vote = np.round(np.random.choice(np.abs(np.random.normal(party_mean, party_stdev, 1000))), 4)\n",
    "            else: \n",
    "                # the problem with this method is that percents.max() will be smaller for each party further down the party_parameters list, hence the 10 iterations below\n",
    "                scaled_mean = np.round(percents.max()/100 * party_mean, 4)\n",
    "                scaled_stdev = np.round(percents.max()/100 * party_stdev, 4)\n",
    "                count = 0\n",
    "                while vote not in percents:\n",
    "                    count += 1\n",
    "                    if count >= 30:\n",
    "                        normal = np.random.normal(scaled_mean/count, scaled_stdev/count, 1000)\n",
    "                        normal[normal<0] = 0\n",
    "                        vote = np.round(np.random.choice(normal),4)\n",
    "#                         vote = np.round(np.random.choice(np.abs(np.random.normal(scaled_mean/count, scaled_stdev/count, 1000))), 4)\n",
    "\n",
    "                    else:\n",
    "                        normal = np.random.normal(scaled_mean, scaled_stdev, 1000)\n",
    "                        normal[normal<0] = 0\n",
    "                        vote = np.round(np.random.choice(normal),4)\n",
    "#                         vote = np.round(np.random.choice(np.abs(np.random.normal(scaled_mean, scaled_stdev, 1000))), 4)\n",
    "            \n",
    "            percents = np.flip(np.delete(np.flip(percents), np.arange(len(np.arange(0,vote, 0.0001))))) # np.arange(len(np.arange(0,vote, 0.0001))): the first arange is to get the length of the array (in 0.0001 increments) until the vote. the second arange then is to generate a number of integers, which will be the indices to drop by np.delete\n",
    "            percent_dct[i].append(vote)\n",
    "            vote = -1\n",
    "        return percents, percent_dct\n",
    "\n",
    "###### this code block iterates the above 10 times, then takes avg of result\n",
    "    for j in range(10):\n",
    "\n",
    "        percent_dct = {k: [] for k in range(n)}\n",
    "        percents = np.arange(0,100, 0.0001) # these are the percentage points possible\n",
    "        shuffled = np.arange(n)\n",
    "        np.random.shuffle(shuffled) # shuffles in-place\n",
    "        \n",
    "        percents, percent_dct = one_run(shuffled, percents, percent_dct, party_parameters, False) # this is to speedup the code\n",
    "\n",
    "        while percents.max() > 1: # if there is more than one percentage point remaining, the loop runs again\n",
    "            percents, percent_dct = one_run(shuffled, percents, percent_dct, party_parameters, True)\n",
    "\n",
    "        for i in range(n):\n",
    "            percent_dct[i].append(percents.max()/n) # the remaining of the unallocated percentage decimals are then equally distributed over the party percentages\n",
    "\n",
    "            if j == 0:\n",
    "                percent_arr = np.array([sum(lst) for lst in percent_dct.values()])\n",
    "            else:\n",
    "                tmp_percent_arr = np.array([sum(lst) for lst in percent_dct.values()])\n",
    "                percent_arr = np.vstack((percent_arr, tmp_percent_arr))\n",
    "    \n",
    "    percent_arr = np.mean(percent_arr, axis=0)\n",
    "    \n",
    "    # since we've taken the average of 10 runs, the percentages might not add up to 100\n",
    "    # hence we sum the array and if different from 100, we add difference to each column (=party) equally\n",
    "    diff = 100 - percent_arr.sum()\n",
    "    \n",
    "    if diff != 0:\n",
    "        percent_arr += (np.ones(n) * diff/3)\n",
    "        \n",
    "    np.allclose(100, percent_arr.sum())\n",
    "######\n",
    "\n",
    "    percent_dropped = 100 - percent_arr.max()\n",
    "    \n",
    "    if verbose:\n",
    "        vote_distribution = {}\n",
    "        for i in range(percent_arr.shape[0]):\n",
    "            vote_distribution['party_' + str(i+1)] = n_constituents * percent_arr[i]/100\n",
    "\n",
    "        return percent_dropped, percent_arr, vote_distribution\n",
    "    \n",
    "    return percent_dropped"
   ]
  },
  {
   "cell_type": "code",
   "execution_count": 333,
   "metadata": {},
   "outputs": [
    {
     "name": "stdout",
     "output_type": "stream",
     "text": [
      "44.31665833333333 [42.34376667  1.97289167 55.68334167] {'party_1': 42.34376666666667, 'party_2': 1.9728916666666647, 'party_3': 55.68334166666668}\n",
      "mean [43.80962714  2.12238488 54.06798798]\n",
      "std [1.60665134 0.35280108 1.69733626]\n",
      "Wall time: 10.6 s\n"
     ]
    }
   ],
   "source": [
    "%%time\n",
    "# unit test\n",
    "# not perfect but hopefully a good enough heuristic\n",
    "party_parameters = [(42, 4), (2, 1), (56, 0.1)]\n",
    "\n",
    "for i in range(20):\n",
    "#     print(i)\n",
    "    dropped, arr, dist = party_specific_gaussian_election(n_parties=3, n_constituents=100, party_parameters=party_parameters, verbose=True)\n",
    "    if i == 0:\n",
    "        stacked = arr\n",
    "    else:\n",
    "        stacked = np.vstack((stacked, arr))\n",
    "print(dropped, arr, dist)\n",
    "print('mean', np.mean(stacked, axis=0))\n",
    "print('std', np.std(stacked, axis=0))"
   ]
  },
  {
   "cell_type": "code",
   "execution_count": 375,
   "metadata": {},
   "outputs": [],
   "source": [
    "def general_election(n_parties, n_constituencies, iterations=1, mean=None, stdev=None, party_parameters=None,verbose=False):\n",
    "    percent_dropped = 0\n",
    "    percent_arr = np.zeros(n_parties)\n",
    "    vote_distribution = Counter()\n",
    "    \n",
    "    for iteration in range(iterations):\n",
    "        print('iteration: ', iteration)\n",
    "        \n",
    "        for n_constituents in n_constituencies:\n",
    "            \n",
    "            if mean == None and party_parameters == None:\n",
    "                if not verbose:\n",
    "                    percent_dropped += simple_constituency_election(n_parties, n_constituents, verbose=verbose)\n",
    "                else:\n",
    "                    tmp_percent_dropped,tmp_percent_arr,tmp_vote_distribution = simple_constituency_election(n_parties, n_constituents, verbose=verbose)\n",
    "                    percent_dropped += tmp_percent_dropped\n",
    "                    percent_arr += tmp_percent_arr\n",
    "                    vote_distribution += tmp_vote_distribution\n",
    "            \n",
    "            elif party_parameters != None:\n",
    "                if not verbose:\n",
    "                    percent_dropped += party_specific_gaussian_election(n_parties, n_constituents, party_parameters, verbose=verbose)\n",
    "                else:\n",
    "                    tmp_percent_dropped,tmp_percent_arr,tmp_vote_distribution = party_specific_gaussian_election(n_parties, n_constituents, party_parameters, verbose=verbose)\n",
    "                    percent_dropped += tmp_percent_dropped\n",
    "                    percent_arr += tmp_percent_arr\n",
    "                    vote_distribution += tmp_vote_distribution\n",
    "            else: \n",
    "                if not verbose:\n",
    "                    percent_dropped += constituency_election_gaussian(n_parties, n_constituents, mean, stdev, verbose=verbose)\n",
    "                else:\n",
    "                    tmp_percent_dropped,tmp_percent_arr,tmp_vote_distribution = constituency_election_gaussian(n_parties, n_constituents, mean, stdev, verbose=verbose)\n",
    "                    percent_dropped += tmp_percent_dropped\n",
    "                    percent_arr += tmp_percent_arr\n",
    "                    vote_distribution += (tmp_vote_distribution)\n",
    "\n",
    "    percent_dropped = percent_dropped/(len(n_constituencies) * iterations)\n",
    "\n",
    "    if verbose:\n",
    "        return percent_dropped, percent_arr/len(n_constituencies * iterations), {k: round(v/iterations) for k,v in vote_distribution.items()}\n",
    "    else:\n",
    "        return percent_dropped\n",
    "    "
   ]
  },
  {
   "cell_type": "code",
   "execution_count": 379,
   "metadata": {},
   "outputs": [
    {
     "name": "stdout",
     "output_type": "stream",
     "text": [
      "iteration:  0\n",
      "iteration:  1\n",
      "iteration:  2\n",
      "iteration:  3\n",
      "iteration:  4\n",
      "iteration:  5\n",
      "iteration:  6\n",
      "iteration:  7\n",
      "iteration:  8\n",
      "iteration:  9\n",
      "iteration:  10\n",
      "iteration:  11\n",
      "iteration:  12\n",
      "iteration:  13\n",
      "iteration:  14\n",
      "iteration:  15\n",
      "iteration:  16\n",
      "iteration:  17\n",
      "iteration:  18\n",
      "iteration:  19\n",
      "iteration:  20\n",
      "iteration:  21\n",
      "iteration:  22\n",
      "iteration:  23\n",
      "iteration:  24\n",
      "iteration:  25\n",
      "iteration:  26\n",
      "iteration:  27\n",
      "iteration:  28\n",
      "iteration:  29\n",
      "iteration:  30\n",
      "iteration:  31\n",
      "iteration:  32\n",
      "iteration:  33\n",
      "iteration:  34\n",
      "iteration:  35\n",
      "iteration:  36\n",
      "iteration:  37\n",
      "iteration:  38\n",
      "iteration:  39\n",
      "iteration:  40\n",
      "iteration:  41\n",
      "iteration:  42\n",
      "iteration:  43\n",
      "iteration:  44\n",
      "iteration:  45\n",
      "iteration:  46\n",
      "iteration:  47\n",
      "iteration:  48\n",
      "iteration:  49\n",
      "iteration:  50\n",
      "iteration:  51\n",
      "iteration:  52\n",
      "iteration:  53\n",
      "iteration:  54\n",
      "iteration:  55\n",
      "iteration:  56\n",
      "iteration:  57\n",
      "iteration:  58\n",
      "iteration:  59\n",
      "iteration:  60\n",
      "iteration:  61\n",
      "iteration:  62\n",
      "iteration:  63\n",
      "iteration:  64\n",
      "iteration:  65\n",
      "iteration:  66\n",
      "iteration:  67\n",
      "iteration:  68\n",
      "iteration:  69\n",
      "iteration:  70\n",
      "iteration:  71\n",
      "iteration:  72\n",
      "iteration:  73\n",
      "iteration:  74\n",
      "iteration:  75\n",
      "iteration:  76\n",
      "iteration:  77\n",
      "iteration:  78\n",
      "iteration:  79\n",
      "iteration:  80\n",
      "iteration:  81\n",
      "iteration:  82\n",
      "iteration:  83\n",
      "iteration:  84\n",
      "iteration:  85\n",
      "iteration:  86\n",
      "iteration:  87\n",
      "iteration:  88\n",
      "iteration:  89\n",
      "iteration:  90\n",
      "iteration:  91\n",
      "iteration:  92\n",
      "iteration:  93\n",
      "iteration:  94\n",
      "iteration:  95\n",
      "iteration:  96\n",
      "iteration:  97\n",
      "iteration:  98\n",
      "iteration:  99\n"
     ]
    },
    {
     "data": {
      "text/plain": [
       "37.3102"
      ]
     },
     "execution_count": 379,
     "metadata": {},
     "output_type": "execute_result"
    }
   ],
   "source": [
    "dropped, arr, dct = general_election(n_parties=6, n_constituencies=[10000] * 300, iterations=100, mean=None, stdev=None, party_parameters=None,verbose=True)\n",
    "dropped"
   ]
  },
  {
   "cell_type": "code",
   "execution_count": 335,
   "metadata": {},
   "outputs": [
    {
     "name": "stdout",
     "output_type": "stream",
     "text": [
      "iteration:  0\n",
      "iteration:  1\n",
      "Wall time: 32.1 s\n"
     ]
    }
   ],
   "source": [
    "%%time\n",
    "# unit test and sanity check\n",
    "n_constituencies = [10000] * 300\n",
    "n_parties = 6\n",
    "d = np.array([15.98, 6.55, 1.62, 33.12, 34.34, 7.63]) # election outcome of last canadian election\n",
    "d_mu = d.mean()\n",
    "d_s = d.std()\n",
    "dropped, arr, dct = general_election(n_parties=n_parties, n_constituencies=n_constituencies, iterations=2, mean=d_mu, stdev=d_s, verbose=True)\n",
    "# print(dropped)"
   ]
  },
  {
   "cell_type": "code",
   "execution_count": 336,
   "metadata": {},
   "outputs": [
    {
     "data": {
      "text/plain": [
       "61.89028166666671"
      ]
     },
     "execution_count": 336,
     "metadata": {},
     "output_type": "execute_result"
    }
   ],
   "source": [
    "# assert (sum(n_constituencies) == sum(dct.values()))\n",
    "# sum(dct.values())\n",
    "dropped"
   ]
  },
  {
   "cell_type": "code",
   "execution_count": 337,
   "metadata": {},
   "outputs": [
    {
     "name": "stdout",
     "output_type": "stream",
     "text": [
      "iteration:  0\n",
      "iteration:  1\n"
     ]
    }
   ],
   "source": [
    "party_parameters = [(15.98,5), (6.55,2), (1.62, 0.4), (33.12,7), (34.34,8), (7.63,2)]\n",
    "dropped, arr, dct = general_election(n_parties=6, n_constituencies=n_constituencies, iterations=2, party_parameters=party_parameters, verbose=True)"
   ]
  },
  {
   "cell_type": "code",
   "execution_count": 338,
   "metadata": {},
   "outputs": [
    {
     "data": {
      "text/plain": [
       "63.89132409848475"
      ]
     },
     "execution_count": 338,
     "metadata": {},
     "output_type": "execute_result"
    }
   ],
   "source": [
    "dropped"
   ]
  },
  {
   "cell_type": "code",
   "execution_count": 339,
   "metadata": {},
   "outputs": [
    {
     "data": {
      "text/plain": [
       "array([15.83361004,  6.59954513,  1.78915787, 33.40174202, 34.91542923,\n",
       "        7.68692156])"
      ]
     },
     "execution_count": 339,
     "metadata": {},
     "output_type": "execute_result"
    }
   ],
   "source": [
    "arr"
   ]
  },
  {
   "cell_type": "code",
   "execution_count": null,
   "metadata": {},
   "outputs": [],
   "source": []
  }
 ],
 "metadata": {
  "kernelspec": {
   "display_name": "Python 3",
   "language": "python",
   "name": "python3"
  },
  "language_info": {
   "codemirror_mode": {
    "name": "ipython",
    "version": 3
   },
   "file_extension": ".py",
   "mimetype": "text/x-python",
   "name": "python",
   "nbconvert_exporter": "python",
   "pygments_lexer": "ipython3",
   "version": "3.8.6rc1"
  },
  "toc": {
   "base_numbering": 1,
   "nav_menu": {},
   "number_sections": true,
   "sideBar": true,
   "skip_h1_title": false,
   "title_cell": "Table of Contents",
   "title_sidebar": "Contents",
   "toc_cell": false,
   "toc_position": {},
   "toc_section_display": true,
   "toc_window_display": false
  },
  "varInspector": {
   "cols": {
    "lenName": 16,
    "lenType": 16,
    "lenVar": 40
   },
   "kernels_config": {
    "python": {
     "delete_cmd_postfix": "",
     "delete_cmd_prefix": "del ",
     "library": "var_list.py",
     "varRefreshCmd": "print(var_dic_list())"
    },
    "r": {
     "delete_cmd_postfix": ") ",
     "delete_cmd_prefix": "rm(",
     "library": "var_list.r",
     "varRefreshCmd": "cat(var_dic_list()) "
    }
   },
   "types_to_exclude": [
    "module",
    "function",
    "builtin_function_or_method",
    "instance",
    "_Feature"
   ],
   "window_display": false
  }
 },
 "nbformat": 4,
 "nbformat_minor": 4
}
